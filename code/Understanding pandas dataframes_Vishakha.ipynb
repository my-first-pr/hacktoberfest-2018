{
 "cells": [
  {
   "cell_type": "code",
   "execution_count": 2,
   "metadata": {
    "collapsed": true
   },
   "outputs": [],
   "source": [
    "import pandas as pd\n",
    "import numpy as np\n",
    "import matplotlib.pyplot as plt"
   ]
  },
  {
   "cell_type": "code",
   "execution_count": 26,
   "metadata": {},
   "outputs": [
    {
     "name": "stdout",
     "output_type": "stream",
     "text": [
      "0    1.0\n",
      "1    3.0\n",
      "2    5.0\n",
      "3    NaN\n",
      "4    6.0\n",
      "5    8.0\n",
      "dtype: float64\n",
      "1.0\n"
     ]
    },
    {
     "data": {
      "text/plain": [
       "2"
      ]
     },
     "execution_count": 26,
     "metadata": {},
     "output_type": "execute_result"
    }
   ],
   "source": [
    "s = pd.Series([1,3,5,np.nan,6,8])\n",
    "print(s)\n",
    "type(s)\n",
    "print(s[0])\n",
    "(s[s == 5.0]).index[0]"
   ]
  },
  {
   "cell_type": "code",
   "execution_count": 56,
   "metadata": {},
   "outputs": [
    {
     "name": "stdout",
     "output_type": "stream",
     "text": [
      "DatetimeIndex(['2013-01-01', '2013-01-02', '2013-01-03', '2013-01-04',\n",
      "               '2013-01-05', '2013-01-06'],\n",
      "              dtype='datetime64[ns]', freq='D')\n",
      "                   A         B         C         D\n",
      "2013-01-01  0.688237  0.853622  0.229503  0.885162\n",
      "2013-01-02  0.199508  0.058591  0.532108  0.820814\n",
      "2013-01-03  0.341717  0.121374  0.318218  0.717195\n",
      "2013-01-04  0.585416  0.980827  0.595542  0.941821\n",
      "2013-01-05  0.718020  0.982208  0.308296  0.827824\n",
      "2013-01-06  0.679155  0.494271  0.201127  0.795402\n",
      "2013-01-01 00:00:00\n",
      "0.5854155671611192\n",
      "Index(['A', 'B', 'C', 'D'], dtype='object')\n",
      "[[0.68823682 0.85362212 0.22950299 0.88516225]\n",
      " [0.1995084  0.05859063 0.53210842 0.82081363]\n",
      " [0.34171712 0.12137446 0.31821844 0.71719537]\n",
      " [0.58541557 0.98082742 0.59554163 0.94182099]\n",
      " [0.71801991 0.98220836 0.30829599 0.82782362]\n",
      " [0.67915531 0.49427068 0.2011271  0.79540175]]\n",
      "<bound method NDFrame.describe of                    A         B         C         D\n",
      "2013-01-01  0.688237  0.853622  0.229503  0.885162\n",
      "2013-01-02  0.199508  0.058591  0.532108  0.820814\n",
      "2013-01-03  0.341717  0.121374  0.318218  0.717195\n",
      "2013-01-04  0.585416  0.980827  0.595542  0.941821\n",
      "2013-01-05  0.718020  0.982208  0.308296  0.827824\n",
      "2013-01-06  0.679155  0.494271  0.201127  0.795402>\n"
     ]
    }
   ],
   "source": [
    "dates = pd.date_range('20130101', periods=6)\n",
    "print(dates)\n",
    "df = pd.DataFrame(np.random.rand(6,4), index=dates, columns=['A','B','C','D'])\n",
    "print(df)\n",
    "print(df.index[0])\n",
    "print(df['A'][3])\n",
    "print(df.columns)\n",
    "print(df.values)\n"
   ]
  },
  {
   "cell_type": "code",
   "execution_count": 57,
   "metadata": {},
   "outputs": [
    {
     "data": {
      "text/html": [
       "<div>\n",
       "<style scoped>\n",
       "    .dataframe tbody tr th:only-of-type {\n",
       "        vertical-align: middle;\n",
       "    }\n",
       "\n",
       "    .dataframe tbody tr th {\n",
       "        vertical-align: top;\n",
       "    }\n",
       "\n",
       "    .dataframe thead th {\n",
       "        text-align: right;\n",
       "    }\n",
       "</style>\n",
       "<table border=\"1\" class=\"dataframe\">\n",
       "  <thead>\n",
       "    <tr style=\"text-align: right;\">\n",
       "      <th></th>\n",
       "      <th>A</th>\n",
       "      <th>B</th>\n",
       "      <th>C</th>\n",
       "      <th>D</th>\n",
       "    </tr>\n",
       "  </thead>\n",
       "  <tbody>\n",
       "    <tr>\n",
       "      <th>count</th>\n",
       "      <td>6.000000</td>\n",
       "      <td>6.000000</td>\n",
       "      <td>6.000000</td>\n",
       "      <td>6.000000</td>\n",
       "    </tr>\n",
       "    <tr>\n",
       "      <th>mean</th>\n",
       "      <td>0.535342</td>\n",
       "      <td>0.581816</td>\n",
       "      <td>0.364132</td>\n",
       "      <td>0.831370</td>\n",
       "    </tr>\n",
       "    <tr>\n",
       "      <th>std</th>\n",
       "      <td>0.214575</td>\n",
       "      <td>0.421150</td>\n",
       "      <td>0.162288</td>\n",
       "      <td>0.076872</td>\n",
       "    </tr>\n",
       "    <tr>\n",
       "      <th>min</th>\n",
       "      <td>0.199508</td>\n",
       "      <td>0.058591</td>\n",
       "      <td>0.201127</td>\n",
       "      <td>0.717195</td>\n",
       "    </tr>\n",
       "    <tr>\n",
       "      <th>25%</th>\n",
       "      <td>0.402642</td>\n",
       "      <td>0.214599</td>\n",
       "      <td>0.249201</td>\n",
       "      <td>0.801755</td>\n",
       "    </tr>\n",
       "    <tr>\n",
       "      <th>50%</th>\n",
       "      <td>0.632285</td>\n",
       "      <td>0.673946</td>\n",
       "      <td>0.313257</td>\n",
       "      <td>0.824319</td>\n",
       "    </tr>\n",
       "    <tr>\n",
       "      <th>75%</th>\n",
       "      <td>0.685966</td>\n",
       "      <td>0.949026</td>\n",
       "      <td>0.478636</td>\n",
       "      <td>0.870828</td>\n",
       "    </tr>\n",
       "    <tr>\n",
       "      <th>max</th>\n",
       "      <td>0.718020</td>\n",
       "      <td>0.982208</td>\n",
       "      <td>0.595542</td>\n",
       "      <td>0.941821</td>\n",
       "    </tr>\n",
       "  </tbody>\n",
       "</table>\n",
       "</div>"
      ],
      "text/plain": [
       "              A         B         C         D\n",
       "count  6.000000  6.000000  6.000000  6.000000\n",
       "mean   0.535342  0.581816  0.364132  0.831370\n",
       "std    0.214575  0.421150  0.162288  0.076872\n",
       "min    0.199508  0.058591  0.201127  0.717195\n",
       "25%    0.402642  0.214599  0.249201  0.801755\n",
       "50%    0.632285  0.673946  0.313257  0.824319\n",
       "75%    0.685966  0.949026  0.478636  0.870828\n",
       "max    0.718020  0.982208  0.595542  0.941821"
      ]
     },
     "execution_count": 57,
     "metadata": {},
     "output_type": "execute_result"
    }
   ],
   "source": [
    "df.describe()"
   ]
  },
  {
   "cell_type": "code",
   "execution_count": 59,
   "metadata": {},
   "outputs": [
    {
     "name": "stdout",
     "output_type": "stream",
     "text": [
      "                   A         B         C         D\n",
      "2013-01-01  0.688237  0.853622  0.229503  0.885162\n",
      "2013-01-02  0.199508  0.058591  0.532108  0.820814\n",
      "2013-01-03  0.341717  0.121374  0.318218  0.717195\n",
      "2013-01-04  0.585416  0.980827  0.595542  0.941821\n",
      "2013-01-05  0.718020  0.982208  0.308296  0.827824\n",
      "2013-01-06  0.679155  0.494271  0.201127  0.795402\n"
     ]
    }
   ],
   "source": [
    "df.T\n",
    "print(df)"
   ]
  },
  {
   "cell_type": "code",
   "execution_count": 63,
   "metadata": {},
   "outputs": [
    {
     "data": {
      "text/html": [
       "<div>\n",
       "<style scoped>\n",
       "    .dataframe tbody tr th:only-of-type {\n",
       "        vertical-align: middle;\n",
       "    }\n",
       "\n",
       "    .dataframe tbody tr th {\n",
       "        vertical-align: top;\n",
       "    }\n",
       "\n",
       "    .dataframe thead th {\n",
       "        text-align: right;\n",
       "    }\n",
       "</style>\n",
       "<table border=\"1\" class=\"dataframe\">\n",
       "  <thead>\n",
       "    <tr style=\"text-align: right;\">\n",
       "      <th></th>\n",
       "      <th>A</th>\n",
       "      <th>B</th>\n",
       "      <th>C</th>\n",
       "      <th>D</th>\n",
       "    </tr>\n",
       "  </thead>\n",
       "  <tbody>\n",
       "    <tr>\n",
       "      <th>2013-01-06</th>\n",
       "      <td>0.679155</td>\n",
       "      <td>0.494271</td>\n",
       "      <td>0.201127</td>\n",
       "      <td>0.795402</td>\n",
       "    </tr>\n",
       "    <tr>\n",
       "      <th>2013-01-05</th>\n",
       "      <td>0.718020</td>\n",
       "      <td>0.982208</td>\n",
       "      <td>0.308296</td>\n",
       "      <td>0.827824</td>\n",
       "    </tr>\n",
       "    <tr>\n",
       "      <th>2013-01-04</th>\n",
       "      <td>0.585416</td>\n",
       "      <td>0.980827</td>\n",
       "      <td>0.595542</td>\n",
       "      <td>0.941821</td>\n",
       "    </tr>\n",
       "    <tr>\n",
       "      <th>2013-01-03</th>\n",
       "      <td>0.341717</td>\n",
       "      <td>0.121374</td>\n",
       "      <td>0.318218</td>\n",
       "      <td>0.717195</td>\n",
       "    </tr>\n",
       "    <tr>\n",
       "      <th>2013-01-02</th>\n",
       "      <td>0.199508</td>\n",
       "      <td>0.058591</td>\n",
       "      <td>0.532108</td>\n",
       "      <td>0.820814</td>\n",
       "    </tr>\n",
       "    <tr>\n",
       "      <th>2013-01-01</th>\n",
       "      <td>0.688237</td>\n",
       "      <td>0.853622</td>\n",
       "      <td>0.229503</td>\n",
       "      <td>0.885162</td>\n",
       "    </tr>\n",
       "  </tbody>\n",
       "</table>\n",
       "</div>"
      ],
      "text/plain": [
       "                   A         B         C         D\n",
       "2013-01-06  0.679155  0.494271  0.201127  0.795402\n",
       "2013-01-05  0.718020  0.982208  0.308296  0.827824\n",
       "2013-01-04  0.585416  0.980827  0.595542  0.941821\n",
       "2013-01-03  0.341717  0.121374  0.318218  0.717195\n",
       "2013-01-02  0.199508  0.058591  0.532108  0.820814\n",
       "2013-01-01  0.688237  0.853622  0.229503  0.885162"
      ]
     },
     "execution_count": 63,
     "metadata": {},
     "output_type": "execute_result"
    }
   ],
   "source": [
    "df.sort_index(axis=0, ascending=False)"
   ]
  },
  {
   "cell_type": "code",
   "execution_count": 64,
   "metadata": {},
   "outputs": [
    {
     "data": {
      "text/html": [
       "<div>\n",
       "<style scoped>\n",
       "    .dataframe tbody tr th:only-of-type {\n",
       "        vertical-align: middle;\n",
       "    }\n",
       "\n",
       "    .dataframe tbody tr th {\n",
       "        vertical-align: top;\n",
       "    }\n",
       "\n",
       "    .dataframe thead th {\n",
       "        text-align: right;\n",
       "    }\n",
       "</style>\n",
       "<table border=\"1\" class=\"dataframe\">\n",
       "  <thead>\n",
       "    <tr style=\"text-align: right;\">\n",
       "      <th></th>\n",
       "      <th>A</th>\n",
       "      <th>B</th>\n",
       "      <th>C</th>\n",
       "      <th>D</th>\n",
       "    </tr>\n",
       "  </thead>\n",
       "  <tbody>\n",
       "    <tr>\n",
       "      <th>2013-01-02</th>\n",
       "      <td>0.199508</td>\n",
       "      <td>0.058591</td>\n",
       "      <td>0.532108</td>\n",
       "      <td>0.820814</td>\n",
       "    </tr>\n",
       "    <tr>\n",
       "      <th>2013-01-03</th>\n",
       "      <td>0.341717</td>\n",
       "      <td>0.121374</td>\n",
       "      <td>0.318218</td>\n",
       "      <td>0.717195</td>\n",
       "    </tr>\n",
       "    <tr>\n",
       "      <th>2013-01-06</th>\n",
       "      <td>0.679155</td>\n",
       "      <td>0.494271</td>\n",
       "      <td>0.201127</td>\n",
       "      <td>0.795402</td>\n",
       "    </tr>\n",
       "    <tr>\n",
       "      <th>2013-01-01</th>\n",
       "      <td>0.688237</td>\n",
       "      <td>0.853622</td>\n",
       "      <td>0.229503</td>\n",
       "      <td>0.885162</td>\n",
       "    </tr>\n",
       "    <tr>\n",
       "      <th>2013-01-04</th>\n",
       "      <td>0.585416</td>\n",
       "      <td>0.980827</td>\n",
       "      <td>0.595542</td>\n",
       "      <td>0.941821</td>\n",
       "    </tr>\n",
       "    <tr>\n",
       "      <th>2013-01-05</th>\n",
       "      <td>0.718020</td>\n",
       "      <td>0.982208</td>\n",
       "      <td>0.308296</td>\n",
       "      <td>0.827824</td>\n",
       "    </tr>\n",
       "  </tbody>\n",
       "</table>\n",
       "</div>"
      ],
      "text/plain": [
       "                   A         B         C         D\n",
       "2013-01-02  0.199508  0.058591  0.532108  0.820814\n",
       "2013-01-03  0.341717  0.121374  0.318218  0.717195\n",
       "2013-01-06  0.679155  0.494271  0.201127  0.795402\n",
       "2013-01-01  0.688237  0.853622  0.229503  0.885162\n",
       "2013-01-04  0.585416  0.980827  0.595542  0.941821\n",
       "2013-01-05  0.718020  0.982208  0.308296  0.827824"
      ]
     },
     "execution_count": 64,
     "metadata": {},
     "output_type": "execute_result"
    }
   ],
   "source": [
    "df.sort_values(by='B')"
   ]
  },
  {
   "cell_type": "code",
   "execution_count": 70,
   "metadata": {},
   "outputs": [
    {
     "data": {
      "text/plain": [
       "A    0.199508\n",
       "B    0.058591\n",
       "C    0.532108\n",
       "D    0.820814\n",
       "Name: 2013-01-02 00:00:00, dtype: float64"
      ]
     },
     "execution_count": 70,
     "metadata": {},
     "output_type": "execute_result"
    }
   ],
   "source": [
    "df.loc['2013-01-02']"
   ]
  },
  {
   "cell_type": "code",
   "execution_count": 72,
   "metadata": {},
   "outputs": [
    {
     "data": {
      "text/plain": [
       "A    0.199508\n",
       "B    0.058591\n",
       "Name: 2013-01-02 00:00:00, dtype: float64"
      ]
     },
     "execution_count": 72,
     "metadata": {},
     "output_type": "execute_result"
    }
   ],
   "source": [
    "df.loc['2013-01-02',['A','B']]"
   ]
  },
  {
   "cell_type": "code",
   "execution_count": 74,
   "metadata": {},
   "outputs": [
    {
     "data": {
      "text/html": [
       "<div>\n",
       "<style scoped>\n",
       "    .dataframe tbody tr th:only-of-type {\n",
       "        vertical-align: middle;\n",
       "    }\n",
       "\n",
       "    .dataframe tbody tr th {\n",
       "        vertical-align: top;\n",
       "    }\n",
       "\n",
       "    .dataframe thead th {\n",
       "        text-align: right;\n",
       "    }\n",
       "</style>\n",
       "<table border=\"1\" class=\"dataframe\">\n",
       "  <thead>\n",
       "    <tr style=\"text-align: right;\">\n",
       "      <th></th>\n",
       "      <th>A</th>\n",
       "      <th>B</th>\n",
       "    </tr>\n",
       "  </thead>\n",
       "  <tbody>\n",
       "    <tr>\n",
       "      <th>2013-01-01</th>\n",
       "      <td>0.688237</td>\n",
       "      <td>0.853622</td>\n",
       "    </tr>\n",
       "    <tr>\n",
       "      <th>2013-01-02</th>\n",
       "      <td>0.199508</td>\n",
       "      <td>0.058591</td>\n",
       "    </tr>\n",
       "    <tr>\n",
       "      <th>2013-01-03</th>\n",
       "      <td>0.341717</td>\n",
       "      <td>0.121374</td>\n",
       "    </tr>\n",
       "    <tr>\n",
       "      <th>2013-01-04</th>\n",
       "      <td>0.585416</td>\n",
       "      <td>0.980827</td>\n",
       "    </tr>\n",
       "    <tr>\n",
       "      <th>2013-01-05</th>\n",
       "      <td>0.718020</td>\n",
       "      <td>0.982208</td>\n",
       "    </tr>\n",
       "    <tr>\n",
       "      <th>2013-01-06</th>\n",
       "      <td>0.679155</td>\n",
       "      <td>0.494271</td>\n",
       "    </tr>\n",
       "  </tbody>\n",
       "</table>\n",
       "</div>"
      ],
      "text/plain": [
       "                   A         B\n",
       "2013-01-01  0.688237  0.853622\n",
       "2013-01-02  0.199508  0.058591\n",
       "2013-01-03  0.341717  0.121374\n",
       "2013-01-04  0.585416  0.980827\n",
       "2013-01-05  0.718020  0.982208\n",
       "2013-01-06  0.679155  0.494271"
      ]
     },
     "execution_count": 74,
     "metadata": {},
     "output_type": "execute_result"
    }
   ],
   "source": [
    "df.loc[:,['A','B']]"
   ]
  },
  {
   "cell_type": "code",
   "execution_count": 75,
   "metadata": {},
   "outputs": [
    {
     "data": {
      "text/plain": [
       "A    0.585416\n",
       "B    0.980827\n",
       "C    0.595542\n",
       "D    0.941821\n",
       "Name: 2013-01-04 00:00:00, dtype: float64"
      ]
     },
     "execution_count": 75,
     "metadata": {},
     "output_type": "execute_result"
    }
   ],
   "source": [
    "df.iloc[3]"
   ]
  },
  {
   "cell_type": "code",
   "execution_count": 79,
   "metadata": {},
   "outputs": [
    {
     "data": {
      "text/html": [
       "<div>\n",
       "<style scoped>\n",
       "    .dataframe tbody tr th:only-of-type {\n",
       "        vertical-align: middle;\n",
       "    }\n",
       "\n",
       "    .dataframe tbody tr th {\n",
       "        vertical-align: top;\n",
       "    }\n",
       "\n",
       "    .dataframe thead th {\n",
       "        text-align: right;\n",
       "    }\n",
       "</style>\n",
       "<table border=\"1\" class=\"dataframe\">\n",
       "  <thead>\n",
       "    <tr style=\"text-align: right;\">\n",
       "      <th></th>\n",
       "      <th>A</th>\n",
       "      <th>B</th>\n",
       "    </tr>\n",
       "  </thead>\n",
       "  <tbody>\n",
       "    <tr>\n",
       "      <th>2013-01-04</th>\n",
       "      <td>0.585416</td>\n",
       "      <td>0.980827</td>\n",
       "    </tr>\n",
       "    <tr>\n",
       "      <th>2013-01-05</th>\n",
       "      <td>0.718020</td>\n",
       "      <td>0.982208</td>\n",
       "    </tr>\n",
       "  </tbody>\n",
       "</table>\n",
       "</div>"
      ],
      "text/plain": [
       "                   A         B\n",
       "2013-01-04  0.585416  0.980827\n",
       "2013-01-05  0.718020  0.982208"
      ]
     },
     "execution_count": 79,
     "metadata": {},
     "output_type": "execute_result"
    }
   ],
   "source": [
    "df.iloc[3:5,0:2]"
   ]
  },
  {
   "cell_type": "code",
   "execution_count": 80,
   "metadata": {},
   "outputs": [
    {
     "data": {
      "text/html": [
       "<div>\n",
       "<style scoped>\n",
       "    .dataframe tbody tr th:only-of-type {\n",
       "        vertical-align: middle;\n",
       "    }\n",
       "\n",
       "    .dataframe tbody tr th {\n",
       "        vertical-align: top;\n",
       "    }\n",
       "\n",
       "    .dataframe thead th {\n",
       "        text-align: right;\n",
       "    }\n",
       "</style>\n",
       "<table border=\"1\" class=\"dataframe\">\n",
       "  <thead>\n",
       "    <tr style=\"text-align: right;\">\n",
       "      <th></th>\n",
       "      <th>A</th>\n",
       "      <th>B</th>\n",
       "      <th>C</th>\n",
       "      <th>D</th>\n",
       "    </tr>\n",
       "  </thead>\n",
       "  <tbody>\n",
       "    <tr>\n",
       "      <th>2013-01-01</th>\n",
       "      <td>0.688237</td>\n",
       "      <td>0.853622</td>\n",
       "      <td>0.229503</td>\n",
       "      <td>0.885162</td>\n",
       "    </tr>\n",
       "    <tr>\n",
       "      <th>2013-01-02</th>\n",
       "      <td>0.199508</td>\n",
       "      <td>0.058591</td>\n",
       "      <td>0.532108</td>\n",
       "      <td>0.820814</td>\n",
       "    </tr>\n",
       "    <tr>\n",
       "      <th>2013-01-03</th>\n",
       "      <td>0.341717</td>\n",
       "      <td>0.121374</td>\n",
       "      <td>0.318218</td>\n",
       "      <td>0.717195</td>\n",
       "    </tr>\n",
       "    <tr>\n",
       "      <th>2013-01-04</th>\n",
       "      <td>0.585416</td>\n",
       "      <td>0.980827</td>\n",
       "      <td>0.595542</td>\n",
       "      <td>0.941821</td>\n",
       "    </tr>\n",
       "    <tr>\n",
       "      <th>2013-01-05</th>\n",
       "      <td>0.718020</td>\n",
       "      <td>0.982208</td>\n",
       "      <td>0.308296</td>\n",
       "      <td>0.827824</td>\n",
       "    </tr>\n",
       "    <tr>\n",
       "      <th>2013-01-06</th>\n",
       "      <td>0.679155</td>\n",
       "      <td>0.494271</td>\n",
       "      <td>0.201127</td>\n",
       "      <td>0.795402</td>\n",
       "    </tr>\n",
       "  </tbody>\n",
       "</table>\n",
       "</div>"
      ],
      "text/plain": [
       "                   A         B         C         D\n",
       "2013-01-01  0.688237  0.853622  0.229503  0.885162\n",
       "2013-01-02  0.199508  0.058591  0.532108  0.820814\n",
       "2013-01-03  0.341717  0.121374  0.318218  0.717195\n",
       "2013-01-04  0.585416  0.980827  0.595542  0.941821\n",
       "2013-01-05  0.718020  0.982208  0.308296  0.827824\n",
       "2013-01-06  0.679155  0.494271  0.201127  0.795402"
      ]
     },
     "execution_count": 80,
     "metadata": {},
     "output_type": "execute_result"
    }
   ],
   "source": [
    "df[df.A > 0]"
   ]
  },
  {
   "cell_type": "code",
   "execution_count": 102,
   "metadata": {},
   "outputs": [
    {
     "data": {
      "text/plain": [
       "array([0.68823682, 0.1995084 , 0.34171712, 0.58541557, 0.71801991,\n",
       "       0.67915531])"
      ]
     },
     "execution_count": 102,
     "metadata": {},
     "output_type": "execute_result"
    }
   ],
   "source": [
    "df[df>0]['A'].values"
   ]
  },
  {
   "cell_type": "code",
   "execution_count": 105,
   "metadata": {},
   "outputs": [
    {
     "data": {
      "text/plain": [
       "array([0.68823682, 0.1995084 , 0.34171712, 0.58541557, 0.71801991,\n",
       "       0.67915531])"
      ]
     },
     "execution_count": 105,
     "metadata": {},
     "output_type": "execute_result"
    }
   ],
   "source": [
    "df[df['A'].]"
   ]
  },
  {
   "cell_type": "code",
   "execution_count": null,
   "metadata": {
    "collapsed": true
   },
   "outputs": [],
   "source": []
  }
 ],
 "metadata": {
  "kernelspec": {
   "display_name": "Python 3",
   "language": "python",
   "name": "python3"
  },
  "language_info": {
   "codemirror_mode": {
    "name": "ipython",
    "version": 3
   },
   "file_extension": ".py",
   "mimetype": "text/x-python",
   "name": "python",
   "nbconvert_exporter": "python",
   "pygments_lexer": "ipython3",
   "version": "3.6.3"
  }
 },
 "nbformat": 4,
 "nbformat_minor": 2
}
